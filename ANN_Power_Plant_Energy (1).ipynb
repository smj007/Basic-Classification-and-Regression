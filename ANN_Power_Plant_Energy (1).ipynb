{
  "nbformat": 4,
  "nbformat_minor": 0,
  "metadata": {
    "colab": {
      "name": "ANN - Power Plant Energy ",
      "provenance": [],
      "collapsed_sections": []
    },
    "kernelspec": {
      "name": "python3",
      "display_name": "Python 3"
    },
    "accelerator": "GPU"
  },
  "cells": [
    {
      "cell_type": "markdown",
      "metadata": {
        "id": "3cbb7fRy-eyr",
        "colab_type": "text"
      },
      "source": [
        "# Artificial Neural Network"
      ]
    },
    {
      "cell_type": "markdown",
      "metadata": {
        "id": "8sNDnxE2-pwE",
        "colab_type": "text"
      },
      "source": [
        "### Importing the libraries"
      ]
    },
    {
      "cell_type": "code",
      "metadata": {
        "id": "bn7vxSmrX0-V",
        "colab_type": "code",
        "colab": {}
      },
      "source": [
        "import numpy as np\n",
        "import pandas as pd\n",
        "import tensorflow as tf\n"
      ],
      "execution_count": null,
      "outputs": []
    },
    {
      "cell_type": "code",
      "metadata": {
        "id": "ebYCSxbnX_67",
        "colab_type": "code",
        "colab": {
          "base_uri": "https://localhost:8080/",
          "height": 34
        },
        "outputId": "3b092192-3de0-4de9-fe4f-8f264f4ec95f"
      },
      "source": [
        "tf.__version__"
      ],
      "execution_count": null,
      "outputs": [
        {
          "output_type": "execute_result",
          "data": {
            "text/plain": [
              "'2.2.0'"
            ]
          },
          "metadata": {
            "tags": []
          },
          "execution_count": 18
        }
      ]
    },
    {
      "cell_type": "markdown",
      "metadata": {
        "id": "AG3FQEch-yuA",
        "colab_type": "text"
      },
      "source": [
        "## Part 1 - Data Preprocessing"
      ]
    },
    {
      "cell_type": "markdown",
      "metadata": {
        "id": "-4zq8Mza_D9O",
        "colab_type": "text"
      },
      "source": [
        "### Importing the dataset"
      ]
    },
    {
      "cell_type": "code",
      "metadata": {
        "id": "5SJfToaLYE0-",
        "colab_type": "code",
        "colab": {}
      },
      "source": [
        "dataset = pd.read_excel('Folds5x2_pp.xlsx')"
      ],
      "execution_count": null,
      "outputs": []
    },
    {
      "cell_type": "code",
      "metadata": {
        "id": "RAxW1wk9YcQB",
        "colab_type": "code",
        "colab": {
          "base_uri": "https://localhost:8080/",
          "height": 204
        },
        "outputId": "4c3971e5-1807-4900-fabe-b626b54e9d4a"
      },
      "source": [
        "dataset.head()"
      ],
      "execution_count": null,
      "outputs": [
        {
          "output_type": "execute_result",
          "data": {
            "text/html": [
              "<div>\n",
              "<style scoped>\n",
              "    .dataframe tbody tr th:only-of-type {\n",
              "        vertical-align: middle;\n",
              "    }\n",
              "\n",
              "    .dataframe tbody tr th {\n",
              "        vertical-align: top;\n",
              "    }\n",
              "\n",
              "    .dataframe thead th {\n",
              "        text-align: right;\n",
              "    }\n",
              "</style>\n",
              "<table border=\"1\" class=\"dataframe\">\n",
              "  <thead>\n",
              "    <tr style=\"text-align: right;\">\n",
              "      <th></th>\n",
              "      <th>AT</th>\n",
              "      <th>V</th>\n",
              "      <th>AP</th>\n",
              "      <th>RH</th>\n",
              "      <th>PE</th>\n",
              "    </tr>\n",
              "  </thead>\n",
              "  <tbody>\n",
              "    <tr>\n",
              "      <th>0</th>\n",
              "      <td>14.96</td>\n",
              "      <td>41.76</td>\n",
              "      <td>1024.07</td>\n",
              "      <td>73.17</td>\n",
              "      <td>463.26</td>\n",
              "    </tr>\n",
              "    <tr>\n",
              "      <th>1</th>\n",
              "      <td>25.18</td>\n",
              "      <td>62.96</td>\n",
              "      <td>1020.04</td>\n",
              "      <td>59.08</td>\n",
              "      <td>444.37</td>\n",
              "    </tr>\n",
              "    <tr>\n",
              "      <th>2</th>\n",
              "      <td>5.11</td>\n",
              "      <td>39.40</td>\n",
              "      <td>1012.16</td>\n",
              "      <td>92.14</td>\n",
              "      <td>488.56</td>\n",
              "    </tr>\n",
              "    <tr>\n",
              "      <th>3</th>\n",
              "      <td>20.86</td>\n",
              "      <td>57.32</td>\n",
              "      <td>1010.24</td>\n",
              "      <td>76.64</td>\n",
              "      <td>446.48</td>\n",
              "    </tr>\n",
              "    <tr>\n",
              "      <th>4</th>\n",
              "      <td>10.82</td>\n",
              "      <td>37.50</td>\n",
              "      <td>1009.23</td>\n",
              "      <td>96.62</td>\n",
              "      <td>473.90</td>\n",
              "    </tr>\n",
              "  </tbody>\n",
              "</table>\n",
              "</div>"
            ],
            "text/plain": [
              "      AT      V       AP     RH      PE\n",
              "0  14.96  41.76  1024.07  73.17  463.26\n",
              "1  25.18  62.96  1020.04  59.08  444.37\n",
              "2   5.11  39.40  1012.16  92.14  488.56\n",
              "3  20.86  57.32  1010.24  76.64  446.48\n",
              "4  10.82  37.50  1009.23  96.62  473.90"
            ]
          },
          "metadata": {
            "tags": []
          },
          "execution_count": 20
        }
      ]
    },
    {
      "cell_type": "code",
      "metadata": {
        "id": "X0_Rf6giYicN",
        "colab_type": "code",
        "colab": {}
      },
      "source": [
        "X = dataset.iloc[:, :-1].values\n",
        "y = dataset.iloc[:, -1].values"
      ],
      "execution_count": null,
      "outputs": []
    },
    {
      "cell_type": "code",
      "metadata": {
        "id": "vGdnwawXZlIE",
        "colab_type": "code",
        "colab": {
          "base_uri": "https://localhost:8080/",
          "height": 34
        },
        "outputId": "15db7635-3072-4568-9388-37fc2030f238"
      },
      "source": [
        "X.shape"
      ],
      "execution_count": null,
      "outputs": [
        {
          "output_type": "execute_result",
          "data": {
            "text/plain": [
              "(9568, 4)"
            ]
          },
          "metadata": {
            "tags": []
          },
          "execution_count": 22
        }
      ]
    },
    {
      "cell_type": "markdown",
      "metadata": {
        "id": "VC6omXel_Up0",
        "colab_type": "text"
      },
      "source": [
        "### Splitting the dataset into the Training set and Test set"
      ]
    },
    {
      "cell_type": "code",
      "metadata": {
        "id": "HhASBBaSYtev",
        "colab_type": "code",
        "colab": {}
      },
      "source": [
        "from sklearn.model_selection import train_test_split\n",
        "\n",
        "X_train, X_test, y_train, y_test = train_test_split(X, y, test_size = 0.2, random_state = 0)"
      ],
      "execution_count": null,
      "outputs": []
    },
    {
      "cell_type": "markdown",
      "metadata": {
        "id": "_mSLlAT9_eyI",
        "colab_type": "text"
      },
      "source": [
        "## Part 2 - Building the ANN"
      ]
    },
    {
      "cell_type": "markdown",
      "metadata": {
        "id": "CsBULd_f_wLY",
        "colab_type": "text"
      },
      "source": [
        "### Initializing the ANN"
      ]
    },
    {
      "cell_type": "code",
      "metadata": {
        "id": "ftmhiD3SZPpc",
        "colab_type": "code",
        "colab": {}
      },
      "source": [
        "ann = tf.keras.models.Sequential()"
      ],
      "execution_count": null,
      "outputs": []
    },
    {
      "cell_type": "markdown",
      "metadata": {
        "id": "iitAFJS_ABUn",
        "colab_type": "text"
      },
      "source": [
        "### Adding the input layer and the first hidden layer"
      ]
    },
    {
      "cell_type": "code",
      "metadata": {
        "id": "Z_ZE04CGZYgh",
        "colab_type": "code",
        "colab": {}
      },
      "source": [
        "ann.add(tf.keras.layers.Dense(units = 6, activation = 'relu'))"
      ],
      "execution_count": null,
      "outputs": []
    },
    {
      "cell_type": "markdown",
      "metadata": {
        "id": "-lb4kK_wAKbs",
        "colab_type": "text"
      },
      "source": [
        "### Adding the second hidden layer"
      ]
    },
    {
      "cell_type": "code",
      "metadata": {
        "id": "EOUpOkckZY_f",
        "colab_type": "code",
        "colab": {}
      },
      "source": [
        "ann.add(tf.keras.layers.Dense(units = 6, activation = 'relu'))"
      ],
      "execution_count": null,
      "outputs": []
    },
    {
      "cell_type": "markdown",
      "metadata": {
        "id": "jwMOmKb3AdBY",
        "colab_type": "text"
      },
      "source": [
        "### Adding the output layer"
      ]
    },
    {
      "cell_type": "code",
      "metadata": {
        "id": "YyuVhGSeZZiD",
        "colab_type": "code",
        "colab": {}
      },
      "source": [
        "ann.add(tf.keras.layers.Dense(units = 1))"
      ],
      "execution_count": null,
      "outputs": []
    },
    {
      "cell_type": "markdown",
      "metadata": {
        "id": "fq7e4fF6A1yy",
        "colab_type": "text"
      },
      "source": [
        "## Part 3 - Training the ANN"
      ]
    },
    {
      "cell_type": "markdown",
      "metadata": {
        "id": "qDeylAs2An25",
        "colab_type": "text"
      },
      "source": [
        "### Compiling the ANN"
      ]
    },
    {
      "cell_type": "code",
      "metadata": {
        "id": "elqussNJaMiv",
        "colab_type": "code",
        "colab": {}
      },
      "source": [
        "ann.compile(optimizer = 'adam', loss = 'mean_squared_error')"
      ],
      "execution_count": null,
      "outputs": []
    },
    {
      "cell_type": "markdown",
      "metadata": {
        "id": "YjVuiybYOo7r",
        "colab_type": "text"
      },
      "source": [
        "### Training the ANN model on the Training set"
      ]
    },
    {
      "cell_type": "code",
      "metadata": {
        "id": "3aI8cfxoaUcq",
        "colab_type": "code",
        "colab": {
          "base_uri": "https://localhost:8080/",
          "height": 1000
        },
        "outputId": "d31267ff-28d0-4807-8281-5b529c88adc1"
      },
      "source": [
        "ann.fit(X_train, y_train, batch_size = 32, epochs = 100)"
      ],
      "execution_count": null,
      "outputs": [
        {
          "output_type": "stream",
          "text": [
            "Epoch 1/100\n",
            "240/240 [==============================] - 0s 2ms/step - loss: 47625.6445\n",
            "Epoch 2/100\n",
            "240/240 [==============================] - 0s 2ms/step - loss: 460.9933\n",
            "Epoch 3/100\n",
            "240/240 [==============================] - 0s 2ms/step - loss: 448.1086\n",
            "Epoch 4/100\n",
            "240/240 [==============================] - 0s 2ms/step - loss: 432.8058\n",
            "Epoch 5/100\n",
            "240/240 [==============================] - 0s 2ms/step - loss: 413.8653\n",
            "Epoch 6/100\n",
            "240/240 [==============================] - 0s 2ms/step - loss: 392.9069\n",
            "Epoch 7/100\n",
            "240/240 [==============================] - 0s 2ms/step - loss: 371.2970\n",
            "Epoch 8/100\n",
            "240/240 [==============================] - 0s 2ms/step - loss: 345.9048\n",
            "Epoch 9/100\n",
            "240/240 [==============================] - 0s 2ms/step - loss: 319.3231\n",
            "Epoch 10/100\n",
            "240/240 [==============================] - 0s 2ms/step - loss: 293.1024\n",
            "Epoch 11/100\n",
            "240/240 [==============================] - 0s 2ms/step - loss: 265.2527\n",
            "Epoch 12/100\n",
            "240/240 [==============================] - 0s 2ms/step - loss: 238.3770\n",
            "Epoch 13/100\n",
            "240/240 [==============================] - 0s 2ms/step - loss: 210.8967\n",
            "Epoch 14/100\n",
            "240/240 [==============================] - 0s 2ms/step - loss: 184.6626\n",
            "Epoch 15/100\n",
            "240/240 [==============================] - 0s 2ms/step - loss: 159.2177\n",
            "Epoch 16/100\n",
            "240/240 [==============================] - 0s 2ms/step - loss: 136.1575\n",
            "Epoch 17/100\n",
            "240/240 [==============================] - 0s 2ms/step - loss: 114.9863\n",
            "Epoch 18/100\n",
            "240/240 [==============================] - 1s 2ms/step - loss: 95.8592\n",
            "Epoch 19/100\n",
            "240/240 [==============================] - 0s 2ms/step - loss: 79.5049\n",
            "Epoch 20/100\n",
            "240/240 [==============================] - 0s 2ms/step - loss: 66.2062\n",
            "Epoch 21/100\n",
            "240/240 [==============================] - 0s 2ms/step - loss: 55.3762\n",
            "Epoch 22/100\n",
            "240/240 [==============================] - 0s 2ms/step - loss: 47.6589\n",
            "Epoch 23/100\n",
            "240/240 [==============================] - 0s 2ms/step - loss: 41.6867\n",
            "Epoch 24/100\n",
            "240/240 [==============================] - 0s 2ms/step - loss: 37.4831\n",
            "Epoch 25/100\n",
            "240/240 [==============================] - 0s 2ms/step - loss: 34.5592\n",
            "Epoch 26/100\n",
            "240/240 [==============================] - 0s 2ms/step - loss: 32.6028\n",
            "Epoch 27/100\n",
            "240/240 [==============================] - 0s 2ms/step - loss: 31.0751\n",
            "Epoch 28/100\n",
            "240/240 [==============================] - 0s 2ms/step - loss: 30.3264\n",
            "Epoch 29/100\n",
            "240/240 [==============================] - 0s 2ms/step - loss: 29.7734\n",
            "Epoch 30/100\n",
            "240/240 [==============================] - 0s 2ms/step - loss: 28.9474\n",
            "Epoch 31/100\n",
            "240/240 [==============================] - 0s 2ms/step - loss: 28.3124\n",
            "Epoch 32/100\n",
            "240/240 [==============================] - 0s 2ms/step - loss: 28.5438\n",
            "Epoch 33/100\n",
            "240/240 [==============================] - 0s 2ms/step - loss: 28.5504\n",
            "Epoch 34/100\n",
            "240/240 [==============================] - 0s 2ms/step - loss: 27.8616\n",
            "Epoch 35/100\n",
            "240/240 [==============================] - 0s 2ms/step - loss: 27.8854\n",
            "Epoch 36/100\n",
            "240/240 [==============================] - 0s 2ms/step - loss: 27.7399\n",
            "Epoch 37/100\n",
            "240/240 [==============================] - 0s 2ms/step - loss: 28.1048\n",
            "Epoch 38/100\n",
            "240/240 [==============================] - 0s 2ms/step - loss: 27.2956\n",
            "Epoch 39/100\n",
            "240/240 [==============================] - 0s 2ms/step - loss: 27.7745\n",
            "Epoch 40/100\n",
            "240/240 [==============================] - 0s 2ms/step - loss: 28.4432\n",
            "Epoch 41/100\n",
            "240/240 [==============================] - 0s 2ms/step - loss: 27.4843\n",
            "Epoch 42/100\n",
            "240/240 [==============================] - 0s 2ms/step - loss: 27.4823\n",
            "Epoch 43/100\n",
            "240/240 [==============================] - 0s 2ms/step - loss: 27.3310\n",
            "Epoch 44/100\n",
            "240/240 [==============================] - 0s 2ms/step - loss: 27.5252\n",
            "Epoch 45/100\n",
            "240/240 [==============================] - 0s 2ms/step - loss: 27.3116\n",
            "Epoch 46/100\n",
            "240/240 [==============================] - 0s 2ms/step - loss: 27.1419\n",
            "Epoch 47/100\n",
            "240/240 [==============================] - 0s 2ms/step - loss: 26.7821\n",
            "Epoch 48/100\n",
            "240/240 [==============================] - 0s 2ms/step - loss: 27.1534\n",
            "Epoch 49/100\n",
            "240/240 [==============================] - 0s 2ms/step - loss: 27.4268\n",
            "Epoch 50/100\n",
            "240/240 [==============================] - 0s 2ms/step - loss: 26.9603\n",
            "Epoch 51/100\n",
            "240/240 [==============================] - 0s 2ms/step - loss: 27.1438\n",
            "Epoch 52/100\n",
            "240/240 [==============================] - 0s 2ms/step - loss: 26.6347\n",
            "Epoch 53/100\n",
            "240/240 [==============================] - 0s 2ms/step - loss: 26.7053\n",
            "Epoch 54/100\n",
            "240/240 [==============================] - 0s 2ms/step - loss: 28.3986\n",
            "Epoch 55/100\n",
            "240/240 [==============================] - 0s 2ms/step - loss: 26.5607\n",
            "Epoch 56/100\n",
            "240/240 [==============================] - 0s 2ms/step - loss: 27.5688\n",
            "Epoch 57/100\n",
            "240/240 [==============================] - 0s 2ms/step - loss: 27.1188\n",
            "Epoch 58/100\n",
            "240/240 [==============================] - 0s 2ms/step - loss: 27.0203\n",
            "Epoch 59/100\n",
            "240/240 [==============================] - 0s 2ms/step - loss: 26.7749\n",
            "Epoch 60/100\n",
            "240/240 [==============================] - 0s 2ms/step - loss: 26.7486\n",
            "Epoch 61/100\n",
            "240/240 [==============================] - 0s 2ms/step - loss: 27.6398\n",
            "Epoch 62/100\n",
            "240/240 [==============================] - 0s 2ms/step - loss: 27.4650\n",
            "Epoch 63/100\n",
            "240/240 [==============================] - 0s 2ms/step - loss: 27.2129\n",
            "Epoch 64/100\n",
            "240/240 [==============================] - 0s 2ms/step - loss: 27.2834\n",
            "Epoch 65/100\n",
            "240/240 [==============================] - 0s 2ms/step - loss: 26.7603\n",
            "Epoch 66/100\n",
            "240/240 [==============================] - 0s 2ms/step - loss: 27.1238\n",
            "Epoch 67/100\n",
            "240/240 [==============================] - 0s 2ms/step - loss: 26.8835\n",
            "Epoch 68/100\n",
            "240/240 [==============================] - 0s 2ms/step - loss: 27.7118\n",
            "Epoch 69/100\n",
            "240/240 [==============================] - 0s 2ms/step - loss: 27.0235\n",
            "Epoch 70/100\n",
            "240/240 [==============================] - 0s 2ms/step - loss: 26.9825\n",
            "Epoch 71/100\n",
            "240/240 [==============================] - 0s 2ms/step - loss: 26.6182\n",
            "Epoch 72/100\n",
            "240/240 [==============================] - 0s 2ms/step - loss: 27.3681\n",
            "Epoch 73/100\n",
            "240/240 [==============================] - 0s 2ms/step - loss: 27.2868\n",
            "Epoch 74/100\n",
            "240/240 [==============================] - 0s 2ms/step - loss: 26.9900\n",
            "Epoch 75/100\n",
            "240/240 [==============================] - 0s 2ms/step - loss: 26.2804\n",
            "Epoch 76/100\n",
            "240/240 [==============================] - 0s 2ms/step - loss: 26.9452\n",
            "Epoch 77/100\n",
            "240/240 [==============================] - 0s 2ms/step - loss: 27.2178\n",
            "Epoch 78/100\n",
            "240/240 [==============================] - 0s 2ms/step - loss: 26.6879\n",
            "Epoch 79/100\n",
            "240/240 [==============================] - 0s 2ms/step - loss: 26.7523\n",
            "Epoch 80/100\n",
            "240/240 [==============================] - 0s 2ms/step - loss: 26.8862\n",
            "Epoch 81/100\n",
            "240/240 [==============================] - 0s 2ms/step - loss: 27.9013\n",
            "Epoch 82/100\n",
            "240/240 [==============================] - 0s 2ms/step - loss: 26.8345\n",
            "Epoch 83/100\n",
            "240/240 [==============================] - 0s 2ms/step - loss: 27.3764\n",
            "Epoch 84/100\n",
            "240/240 [==============================] - 0s 2ms/step - loss: 27.2754\n",
            "Epoch 85/100\n",
            "240/240 [==============================] - 0s 2ms/step - loss: 26.8406\n",
            "Epoch 86/100\n",
            "240/240 [==============================] - 0s 2ms/step - loss: 26.7090\n",
            "Epoch 87/100\n",
            "240/240 [==============================] - 0s 2ms/step - loss: 27.1869\n",
            "Epoch 88/100\n",
            "240/240 [==============================] - 0s 2ms/step - loss: 26.5472\n",
            "Epoch 89/100\n",
            "240/240 [==============================] - 0s 2ms/step - loss: 26.9116\n",
            "Epoch 90/100\n",
            "240/240 [==============================] - 0s 2ms/step - loss: 27.4032\n",
            "Epoch 91/100\n",
            "240/240 [==============================] - 0s 2ms/step - loss: 26.8637\n",
            "Epoch 92/100\n",
            "240/240 [==============================] - 0s 2ms/step - loss: 27.2294\n",
            "Epoch 93/100\n",
            "240/240 [==============================] - 0s 2ms/step - loss: 26.8398\n",
            "Epoch 94/100\n",
            "240/240 [==============================] - 0s 2ms/step - loss: 26.8333\n",
            "Epoch 95/100\n",
            "240/240 [==============================] - 0s 2ms/step - loss: 26.4639\n",
            "Epoch 96/100\n",
            "240/240 [==============================] - 0s 2ms/step - loss: 26.8549\n",
            "Epoch 97/100\n",
            "240/240 [==============================] - 0s 2ms/step - loss: 26.8437\n",
            "Epoch 98/100\n",
            "240/240 [==============================] - 0s 2ms/step - loss: 27.3349\n",
            "Epoch 99/100\n",
            "240/240 [==============================] - 0s 2ms/step - loss: 27.0786\n",
            "Epoch 100/100\n",
            "240/240 [==============================] - 0s 2ms/step - loss: 27.1839\n"
          ],
          "name": "stdout"
        },
        {
          "output_type": "execute_result",
          "data": {
            "text/plain": [
              "<tensorflow.python.keras.callbacks.History at 0x7f07301c7f98>"
            ]
          },
          "metadata": {
            "tags": []
          },
          "execution_count": 29
        }
      ]
    },
    {
      "cell_type": "markdown",
      "metadata": {
        "id": "0H0zKKNEBLD5",
        "colab_type": "text"
      },
      "source": [
        "### Predicting the results of the Test set"
      ]
    },
    {
      "cell_type": "code",
      "metadata": {
        "id": "f7f4-UBEa0Rv",
        "colab_type": "code",
        "colab": {
          "base_uri": "https://localhost:8080/",
          "height": 139
        },
        "outputId": "2c69486a-e981-461e-959e-2ce8b680cdaf"
      },
      "source": [
        "y_pred = ann.predict(X_test)\n",
        "np.set_printoptions(precision = 2)\n",
        "print(np.concatenate((y_pred.reshape(len(y_pred), 1), y_test.reshape(len(y_test), 1)), 1))"
      ],
      "execution_count": null,
      "outputs": [
        {
          "output_type": "stream",
          "text": [
            "[[432.63 431.23]\n",
            " [463.73 460.01]\n",
            " [467.27 461.14]\n",
            " ...\n",
            " [474.44 473.26]\n",
            " [441.26 438.  ]\n",
            " [460.45 463.28]]\n"
          ],
          "name": "stdout"
        }
      ]
    },
    {
      "cell_type": "code",
      "metadata": {
        "id": "bq_R-Y0SdkEv",
        "colab_type": "code",
        "colab": {
          "base_uri": "https://localhost:8080/",
          "height": 34
        },
        "outputId": "0dac45b7-8838-4caa-f537-31dd21ef2346"
      },
      "source": [
        "from sklearn.metrics import mean_squared_error\n",
        "score = mean_squared_error(y_pred, y_test)\n",
        "print(score)"
      ],
      "execution_count": null,
      "outputs": [
        {
          "output_type": "stream",
          "text": [
            "26.400332626675294\n"
          ],
          "name": "stdout"
        }
      ]
    },
    {
      "cell_type": "code",
      "metadata": {
        "id": "5QG7bczadr1s",
        "colab_type": "code",
        "colab": {}
      },
      "source": [
        "#Note that in the final preds, we reshape it to a column as y is a horizontal array\n",
        "#We print the preds on col1 and the test values in col2"
      ],
      "execution_count": null,
      "outputs": []
    }
  ]
}